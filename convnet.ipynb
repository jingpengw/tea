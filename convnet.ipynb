{
 "cells": [
  {
   "cell_type": "code",
   "execution_count": 90,
   "metadata": {
    "collapsed": false
   },
   "outputs": [
    {
     "data": {
      "text/plain": [
       "(784,60000)"
      ]
     },
     "execution_count": 90,
     "metadata": {},
     "output_type": "execute_result"
    }
   ],
   "source": [
    "using HDF5\n",
    "# read data\n",
    "trn_fnm = \"data/train.hdf5\"\n",
    "tst_fnm = \"data/test.hdf5\"\n",
    "trn_d = h5read(trn_fnm, \"/data\")\n",
    "trn_l = h5read(trn_fnm, \"/label\")\n",
    "\n",
    "tst_d = h5read(tst_fnm, \"/data\")\n",
    "tst_l = h5read(tst_fnm, \"/label\")\n",
    "\n",
    "# reshape the data\n",
    "trn_d = reshape(trn_d, (784, 60000))\n",
    "trn_l = reshape(trn_l, 60000)\n",
    "tst_d = reshape(tst_d, (784, 10000))\n",
    "tst_l = reshape(tst_l, 10000)\n",
    "size(trn_d)"
   ]
  },
  {
   "cell_type": "code",
   "execution_count": null,
   "metadata": {
    "collapsed": true
   },
   "outputs": [],
   "source": []
  },
  {
   "cell_type": "code",
   "execution_count": 87,
   "metadata": {
    "collapsed": false
   },
   "outputs": [
    {
     "data": {
      "text/plain": [
       "SGD (generic function with 1 method)"
      ]
     },
     "execution_count": 87,
     "metadata": {},
     "output_type": "execute_result"
    }
   ],
   "source": [
    "type Network\n",
    "    num_layers::Uint32\n",
    "    sizes::Vector{Uint32}\n",
    "    biases::Vector{Array}\n",
    "    weights::Vector{Array}\n",
    "    \n",
    "    # inner construction function\n",
    "    Network()=new(0,{},{},{})\n",
    "    \n",
    "    function Network(sizes::Vector)\n",
    "        num_layers = length( sizes )\n",
    "#         sizes = sizes\n",
    "        biases = {[0]}\n",
    "        weights = {[0]}\n",
    "        for li in 2:num_layers\n",
    "            push!(biases,  randn(sizes[li]) )\n",
    "            push!(weights, randn(sizes[li], sizes[li-1]) ) \n",
    "        end\n",
    "        new(num_layers, sizes, biases, weights)\n",
    "    end\n",
    "end\n",
    "\n",
    "# sigmoid function\n",
    "function sigmoid( z )\n",
    "    return 1.0./(1.0+exp(-z))\n",
    "end\n",
    "\n",
    "# define the functions of Network\n",
    "function feedforward(net::Network, a::Array)\n",
    "    # the input a is the first layer\n",
    "    for li in 2:net.num_layers\n",
    "        b = net.biases[li]\n",
    "        w = net.weights[li]\n",
    "        println(\"weight size: $(size(w))\")\n",
    "        println(\"input size:  $(size(a))\")\n",
    "        a = sigmoid( w*a + b )\n",
    "    end\n",
    "    return a\n",
    "end\n",
    "\n",
    "function SGD(net::Network, trn_d::Vector{Array}, epochs::Uint32, \n",
    "    mini_batch_size::Uint32, eta::Float32, tst_d::Vector{Array})\n",
    "    # number of samples\n",
    "    n_tst = size(tst_d,2)\n",
    "    n_trn = size(trn_d,2)\n",
    "    \n",
    "end"
   ]
  },
  {
   "cell_type": "code",
   "execution_count": 86,
   "metadata": {
    "collapsed": false
   },
   "outputs": [
    {
     "name": "stdout",
     "output_type": "stream",
     "text": [
      "weight size: (30,784)\n",
      "input size:  (784,)\n",
      "weight size: (10,30)\n",
      "input size:  (30,)\n"
     ]
    },
    {
     "data": {
      "text/plain": [
       "10-element Array{Float64,1}:\n",
       " 0.760164   \n",
       " 0.49424    \n",
       " 0.97271    \n",
       " 0.132871   \n",
       " 0.773524   \n",
       " 0.000322451\n",
       " 0.0311591  \n",
       " 0.984714   \n",
       " 0.00303933 \n",
       " 0.900282   "
      ]
     },
     "execution_count": 86,
     "metadata": {},
     "output_type": "execute_result"
    }
   ],
   "source": [
    "sizes = [784, 30, 10]\n",
    "net = Network( sizes )\n",
    "a = randn(784)\n",
    "out = feedforward(net,a)"
   ]
  },
  {
   "cell_type": "code",
   "execution_count": 74,
   "metadata": {
    "collapsed": false
   },
   "outputs": [
    {
     "data": {
      "text/plain": [
       "240.0"
      ]
     },
     "execution_count": 74,
     "metadata": {},
     "output_type": "execute_result"
    }
   ],
   "source": []
  },
  {
   "cell_type": "code",
   "execution_count": null,
   "metadata": {
    "collapsed": true
   },
   "outputs": [],
   "source": []
  }
 ],
 "metadata": {
  "kernelspec": {
   "display_name": "Julia 0.3.7",
   "language": "julia",
   "name": "julia-0.3"
  },
  "language_info": {
   "name": "julia",
   "version": "0.3.7"
  }
 },
 "nbformat": 4,
 "nbformat_minor": 0
}
